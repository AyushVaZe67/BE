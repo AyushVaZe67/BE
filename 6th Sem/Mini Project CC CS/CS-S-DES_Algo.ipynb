{
 "cells": [
  {
   "cell_type": "code",
   "execution_count": 1,
   "id": "e67a678c-1451-4ea8-a166-eab660930186",
   "metadata": {},
   "outputs": [
    {
     "name": "stdout",
     "output_type": "stream",
     "text": [
      "Ciphertext: [1, 0, 1, 1, 1, 0, 1, 0]\n",
      "Decrypted: [1, 1, 1, 0, 1, 0, 1, 1]\n"
     ]
    }
   ],
   "source": [
    "P10 = [3, 5, 2, 7, 4, 10, 1, 9, 8, 6]\n",
    "P8 = [6, 3, 7, 4, 8, 5, 10, 9]\n",
    "P4 = [2, 4, 3, 1]\n",
    "IP = [2, 6, 3, 1, 4, 8, 5, 7]\n",
    "IP_INV = [4, 1, 3, 5, 7, 2, 8, 6]\n",
    "EP = [4, 1, 2, 3, 2, 3, 4, 1]\n",
    "SBOXES = [\n",
    "    [[1, 0, 3, 2], [3, 2, 1, 0], [0, 2, 1, 3], [3, 1, 3, 2]],\n",
    "    [[0, 1, 2, 3], [2, 0, 1, 3], [3, 0, 1, 0], [2, 1, 0, 3]]\n",
    "]\n",
    "\n",
    "def permute(bits, perm):\n",
    "    return [bits[i - 1] for i in perm]\n",
    "\n",
    "def left_shift(bits, shifts):\n",
    "    return bits[shifts:] + bits[:shifts]\n",
    "\n",
    "def key_schedule(key):\n",
    "    key = permute(key, P10)\n",
    "    left, right = key[:5], key[5:]\n",
    "    left, right = left_shift(left, 1), left_shift(right, 1)\n",
    "    k1 = permute(left + right, P8)\n",
    "    left, right = left_shift(left, 2), left_shift(right, 2)\n",
    "    k2 = permute(left + right, P8)\n",
    "    return k1, k2\n",
    "\n",
    "def sbox_substitution(bits, sbox):\n",
    "    row = int(f\"{bits[0]}{bits[3]}\", 2)\n",
    "    col = int(f\"{bits[1]}{bits[2]}\", 2)\n",
    "    return [int(b) for b in f\"{SBOXES[sbox][row][col]:02b}\"]\n",
    "\n",
    "def f_function(bits, key):\n",
    "    bits = permute(bits, EP)\n",
    "    bits = [b ^ k for b, k in zip(bits, key)]\n",
    "    left, right = bits[:4], bits[4:]\n",
    "    sbox_out = sbox_substitution(left, 0) + sbox_substitution(right, 1)\n",
    "    return permute(sbox_out, P4)\n",
    "\n",
    "def feistel_round(bits, key):\n",
    "    left, right = bits[:4], bits[4:]\n",
    "    f_out = f_function(right, key)\n",
    "    return right + [l ^ f for l, f in zip(left, f_out)]\n",
    "\n",
    "def sdes_encrypt(plaintext, key):\n",
    "    k1, k2 = key_schedule(key)\n",
    "    bits = permute(plaintext, IP)\n",
    "    bits = feistel_round(bits, k1)\n",
    "    bits = bits[4:] + bits[:4]  # Swap halves\n",
    "    bits = feistel_round(bits, k2)\n",
    "    return permute(bits, IP_INV)\n",
    "\n",
    "def sdes_decrypt(ciphertext, key):\n",
    "    k1, k2 = key_schedule(key)\n",
    "    bits = permute(ciphertext, IP)\n",
    "    bits = feistel_round(bits, k2)\n",
    "    bits = bits[4:] + bits[:4]  # Swap halves\n",
    "    bits = feistel_round(bits, k1)\n",
    "    return permute(bits, IP_INV)\n",
    "\n",
    "# Example usage\n",
    "key = [0, 1, 0, 0, 0, 0, 1, 1, 1, 0]\n",
    "plaintext = [1, 0, 1, 0, 1, 0, 1, 0]\n",
    "ciphertext = sdes_encrypt(plaintext, key)\n",
    "decrypted_text = sdes_decrypt(ciphertext, key)\n",
    "print(\"Ciphertext:\", ciphertext)\n",
    "print(\"Decrypted:\", decrypted_text)"
   ]
  },
  {
   "cell_type": "code",
   "execution_count": null,
   "id": "8293b06d-4d7d-425e-b8ef-aa5e174a830c",
   "metadata": {},
   "outputs": [],
   "source": []
  }
 ],
 "metadata": {
  "kernelspec": {
   "display_name": "Python 3 (ipykernel)",
   "language": "python",
   "name": "python3"
  },
  "language_info": {
   "codemirror_mode": {
    "name": "ipython",
    "version": 3
   },
   "file_extension": ".py",
   "mimetype": "text/x-python",
   "name": "python",
   "nbconvert_exporter": "python",
   "pygments_lexer": "ipython3",
   "version": "3.12.9"
  }
 },
 "nbformat": 4,
 "nbformat_minor": 5
}
