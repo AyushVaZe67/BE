{
 "cells": [
  {
   "cell_type": "code",
   "execution_count": 1,
   "id": "a4b377cd-5835-4f0a-aa34-7609e1eaaa97",
   "metadata": {},
   "outputs": [
    {
     "name": "stdout",
     "output_type": "stream",
     "text": [
      "Input x: [ 1 -1 -1 -1]\n",
      "Output y: [ 1 -1]\n"
     ]
    }
   ],
   "source": [
    "import numpy as np\n",
    "\n",
    "# define two pairs of vectors\n",
    "x1 = np.array([1,1,1,-1])\n",
    "y1 = np.array([1,-1])\n",
    "x2 = np.array([-1,-1,1,1])\n",
    "y2 = np.array([-1,1])\n",
    "\n",
    "# compute weight matrix W\n",
    "W = np.outer(y1,x1) + np.outer(y2,x2)\n",
    "\n",
    "# define BAM function\n",
    "def bam(x):\n",
    "    y = np.dot(W,x)\n",
    "    y = np.where(y >= 0,1,-1)\n",
    "    return y\n",
    "\n",
    "# test BAM with inputs\n",
    "x_test = np.array([1,-1,-1,-1])\n",
    "y_test = bam(x_test)\n",
    "\n",
    "# print output\n",
    "print(\"Input x:\", x_test)\n",
    "print(\"Output y:\", y_test)"
   ]
  },
  {
   "cell_type": "code",
   "execution_count": 1,
   "id": "aa318b72-ea83-4531-8fda-415c49c6f44c",
   "metadata": {},
   "outputs": [
    {
     "name": "stdout",
     "output_type": "stream",
     "text": [
      "Input x: [ 1 -1 -1 -1]\n",
      "Output y: [ 1 -1]\n",
      "Predicted Input (from Output): [ 1  1  1 -1]\n"
     ]
    }
   ],
   "source": [
    "import numpy as np\n",
    "\n",
    "# Define two pairs of vectors\n",
    "x1 = np.array([1, 1, 1, -1])\n",
    "y1 = np.array([1, -1])\n",
    "x2 = np.array([-1, -1, 1, 1])\n",
    "y2 = np.array([-1, 1])\n",
    "\n",
    "# Compute weight matrix W\n",
    "W = np.outer(y1, x1) + np.outer(y2, x2)\n",
    "\n",
    "# Define BAM function\n",
    "def bam(x, layer=1):\n",
    "    # Forward association: Input -> Output\n",
    "    if layer == 1:\n",
    "        y = np.dot(W, x)\n",
    "    # Reverse association: Output -> Input\n",
    "    else:\n",
    "        y = np.dot(W.T, x)\n",
    "    y = np.where(y >= 0, 1, -1)\n",
    "    return y\n",
    "\n",
    "# Test BAM with inputs (forward association)\n",
    "x_test = np.array([1, -1, -1, -1])\n",
    "y_test = bam(x_test, layer=1)  # Forward: Input -> Output\n",
    "\n",
    "# Print output\n",
    "print(\"Input x:\", x_test)\n",
    "print(\"Output y:\", y_test)\n",
    "\n",
    "# Test reverse association (output -> input)\n",
    "y_reverse_test = bam(y_test, layer=2)  # Reverse: Output -> Input\n",
    "print(\"Predicted Input (from Output):\", y_reverse_test)"
   ]
  },
  {
   "cell_type": "code",
   "execution_count": null,
   "id": "ddfa06bf-c922-44ab-87a5-3186001aeb0a",
   "metadata": {},
   "outputs": [],
   "source": []
  }
 ],
 "metadata": {
  "kernelspec": {
   "display_name": "Python 3 (ipykernel)",
   "language": "python",
   "name": "python3"
  },
  "language_info": {
   "codemirror_mode": {
    "name": "ipython",
    "version": 3
   },
   "file_extension": ".py",
   "mimetype": "text/x-python",
   "name": "python",
   "nbconvert_exporter": "python",
   "pygments_lexer": "ipython3",
   "version": "3.12.9"
  }
 },
 "nbformat": 4,
 "nbformat_minor": 5
}
