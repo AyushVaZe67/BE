{
 "cells": [
  {
   "cell_type": "code",
   "execution_count": 2,
   "id": "0255b1a0-6354-4ef4-be1f-9e914ed198e2",
   "metadata": {},
   "outputs": [
    {
     "name": "stdout",
     "output_type": "stream",
     "text": [
      "Input: [ 1  1 -1] -> Output: [-1.  0.  1.]\n",
      "Input: [-1  1  1] -> Output: [ 1. -1. -1.]\n",
      "Output: [ 1 -1  1] -> Input: [-1.  1.  0.]\n",
      "Output: [ 1 -1 -1] -> Input: [-1.  1.  1.]\n"
     ]
    }
   ],
   "source": [
    "import numpy as np\n",
    "\n",
    "class BAM:\n",
    "    def __init__(self, size1, size2):\n",
    "        self.weights = np.zeros((size1, size2))\n",
    "\n",
    "    def train(self, X, Y):\n",
    "        for x, y in zip(X, Y):\n",
    "            self.weights += np.outer(x, y)\n",
    "\n",
    "    def predict(self, vector, layer=1):\n",
    "        return np.sign(np.dot(vector, self.weights if layer == 1 else self.weights.T))\n",
    "\n",
    "X = np.array([[1, 1, -1], [-1, 1, 1]])  # Input layer\n",
    "Y = np.array([[1, -1, 1], [1, -1, -1]])  # Output layer\n",
    "\n",
    "bam = BAM(size1=X.shape[1], size2=Y.shape[1])\n",
    "bam.train(X, Y)\n",
    "\n",
    "for x in X: print(f\"Input: {x} -> Output: {bam.predict(x, 2)}\")\n",
    "for y in Y: print(f\"Output: {y} -> Input: {bam.predict(y, 1)}\")"
   ]
  },
  {
   "cell_type": "code",
   "execution_count": null,
   "id": "888f7d19-45ad-4a4e-867d-2777cff92d93",
   "metadata": {},
   "outputs": [],
   "source": []
  }
 ],
 "metadata": {
  "kernelspec": {
   "display_name": "Python 3 (ipykernel)",
   "language": "python",
   "name": "python3"
  },
  "language_info": {
   "codemirror_mode": {
    "name": "ipython",
    "version": 3
   },
   "file_extension": ".py",
   "mimetype": "text/x-python",
   "name": "python",
   "nbconvert_exporter": "python",
   "pygments_lexer": "ipython3",
   "version": "3.12.9"
  }
 },
 "nbformat": 4,
 "nbformat_minor": 5
}
