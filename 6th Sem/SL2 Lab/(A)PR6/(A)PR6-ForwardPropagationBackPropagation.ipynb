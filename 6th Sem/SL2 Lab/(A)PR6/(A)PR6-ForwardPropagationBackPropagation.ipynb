{
 "cells": [
  {
   "cell_type": "code",
   "execution_count": 3,
   "id": "339f9e3b-7f0e-471a-85fd-3ed6192000cd",
   "metadata": {},
   "outputs": [
    {
     "name": "stdout",
     "output_type": "stream",
     "text": [
      "\n",
      "Predictions:\n",
      "[[0.]\n",
      " [0.]\n",
      " [0.]\n",
      " [1.]]\n"
     ]
    }
   ],
   "source": [
    "import numpy as np\n",
    "\n",
    "class ForwardPropagationBackPropagation:\n",
    "    def __init__(self, input_size=2, hidden_size=2, output_size=1):\n",
    "        np.random.seed(42)\n",
    "        self.W_input_hidden = np.random.uniform(size=(input_size, hidden_size))\n",
    "        self.b_hidden = np.random.uniform(size=(1, hidden_size))\n",
    "        self.W_hidden_output = np.random.uniform(size=(hidden_size, output_size))\n",
    "        self.b_output = np.random.uniform(size=(1, output_size))\n",
    "        self.loss_history = []\n",
    "\n",
    "    def sigmoid(self, x):\n",
    "        return 1 / (1 + np.exp(-x))\n",
    "\n",
    "    def sigmoid_derivative(self, x):\n",
    "        return x * (1 - x)\n",
    "\n",
    "    def forward_propagation(self, X):\n",
    "        self.hidden_input = np.dot(X, self.W_input_hidden) + self.b_hidden\n",
    "        self.hidden_output = self.sigmoid(self.hidden_input)\n",
    "        self.final_input = np.dot(self.hidden_output, self.W_hidden_output) + self.b_output\n",
    "        self.final_output = self.sigmoid(self.final_input)\n",
    "        return self.final_output\n",
    "\n",
    "    def backward_propagation(self, X, y, output, learning_rate=0.1):\n",
    "        output_error = y - output\n",
    "        output_delta = output_error * self.sigmoid_derivative(output)\n",
    "        hidden_error = output_delta.dot(self.W_hidden_output.T)\n",
    "        hidden_delta = hidden_error * self.sigmoid_derivative(self.hidden_output)\n",
    "        self.W_hidden_output += self.hidden_output.T.dot(output_delta) * learning_rate\n",
    "        self.b_output += np.sum(output_delta, axis=0, keepdims=True) * learning_rate\n",
    "        self.W_input_hidden += X.T.dot(hidden_delta) * learning_rate\n",
    "        self.b_hidden += np.sum(hidden_delta, axis=0, keepdims=True) * learning_rate\n",
    "\n",
    "    def train(self, X, y, epochs=10000, learning_rate=0.1):\n",
    "        for _ in range(epochs):\n",
    "            output = self.forward_propagation(X)\n",
    "            self.backward_propagation(X, y, output, learning_rate)\n",
    "            loss = np.mean(np.square(y - output))\n",
    "            self.loss_history.append(loss)\n",
    "\n",
    "    def predict(self, X):\n",
    "        output = self.forward_propagation(X)\n",
    "        return np.round(output)\n",
    "\n",
    "    def plot_loss(self):\n",
    "        plt.plot(self.loss_history)\n",
    "        plt.title(\"Loss Curve\")\n",
    "        plt.xlabel(\"Epochs\")\n",
    "        plt.ylabel(\"Loss (MSE)\")\n",
    "        plt.grid(True)\n",
    "        plt.show()\n",
    "\n",
    "# Training data for AND Gate\n",
    "X = np.array([[0, 0],\n",
    "              [0, 1],\n",
    "              [1, 0],\n",
    "              [1, 1]])\n",
    "\n",
    "y = np.array([[0],\n",
    "              [0],\n",
    "              [0],\n",
    "              [1]])\n",
    "\n",
    "# Train the model\n",
    "model = ForwardPropagationBackPropagation()\n",
    "model.train(X, y)\n",
    "\n",
    "# Predictions\n",
    "print(\"\\nPredictions:\")\n",
    "print(model.predict(X))"
   ]
  },
  {
   "cell_type": "code",
   "execution_count": null,
   "id": "d6ec0c52-d89c-4923-9aeb-e366005bc417",
   "metadata": {},
   "outputs": [],
   "source": []
  }
 ],
 "metadata": {
  "kernelspec": {
   "display_name": "Python 3 (ipykernel)",
   "language": "python",
   "name": "python3"
  },
  "language_info": {
   "codemirror_mode": {
    "name": "ipython",
    "version": 3
   },
   "file_extension": ".py",
   "mimetype": "text/x-python",
   "name": "python",
   "nbconvert_exporter": "python",
   "pygments_lexer": "ipython3",
   "version": "3.12.9"
  }
 },
 "nbformat": 4,
 "nbformat_minor": 5
}
