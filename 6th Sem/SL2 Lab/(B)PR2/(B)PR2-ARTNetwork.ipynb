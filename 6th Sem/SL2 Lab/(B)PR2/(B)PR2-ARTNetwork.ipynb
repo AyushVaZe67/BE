{
 "cells": [
  {
   "cell_type": "code",
   "execution_count": 3,
   "id": "6b33ff84-f70c-473c-871e-9accaac5fd0d",
   "metadata": {},
   "outputs": [
    {
     "name": "stdout",
     "output_type": "stream",
     "text": [
      "Input 1: [1 1 0 0 1 0] → Cluster: 0\n",
      "Input 2: [1 1 0 0 1 0] → Cluster: 0\n",
      "Input 3: [0 0 1 1 0 1] → Cluster: 1\n",
      "Input 4: [1 0 1 0 1 0] → Cluster: 2\n"
     ]
    }
   ],
   "source": [
    "import numpy as np\n",
    "import matplotlib.pyplot as plt\n",
    "\n",
    "class ART1:\n",
    "    def __init__(self, input_size, vigilance=0.75):\n",
    "        self.input_size = input_size\n",
    "        self.vigilance = vigilance\n",
    "        self.weights = []  \n",
    "\n",
    "    def match(self, pattern, weight):\n",
    "        intersection = np.minimum(pattern, weight)\n",
    "        return np.sum(intersection) / np.sum(pattern) >= self.vigilance\n",
    "\n",
    "    def train(self, patterns):\n",
    "        labels = []\n",
    "        for pattern in patterns:\n",
    "            matched = False\n",
    "            for i, weight in enumerate(self.weights):\n",
    "                if self.match(pattern, weight):\n",
    "                    self.weights[i] = np.minimum(pattern, weight)\n",
    "                    labels.append(i)\n",
    "                    matched = True\n",
    "                    break\n",
    "            if not matched:\n",
    "                self.weights.append(pattern.copy())\n",
    "                labels.append(len(self.weights) - 1)\n",
    "        return labels\n",
    "\n",
    "patterns = np.array([\n",
    "    [1, 1, 0, 0, 1, 0],   \n",
    "    [1, 1, 0, 0, 1, 0],   \n",
    "    [0, 0, 1, 1, 0, 1],   \n",
    "    [1, 0, 1, 0, 1, 0],  \n",
    "])\n",
    "\n",
    "art = ART1(input_size=6, vigilance=0.8)\n",
    "labels = art.train(patterns)\n",
    "\n",
    "for i, pattern in enumerate(patterns):\n",
    "    print(f\"Input {i+1}: {pattern} → Cluster: {labels[i]}\")"
   ]
  },
  {
   "cell_type": "code",
   "execution_count": null,
   "id": "4c371030-8fec-4dd1-a33e-a8cf6d8be497",
   "metadata": {},
   "outputs": [],
   "source": []
  }
 ],
 "metadata": {
  "kernelspec": {
   "display_name": "Python 3 (ipykernel)",
   "language": "python",
   "name": "python3"
  },
  "language_info": {
   "codemirror_mode": {
    "name": "ipython",
    "version": 3
   },
   "file_extension": ".py",
   "mimetype": "text/x-python",
   "name": "python",
   "nbconvert_exporter": "python",
   "pygments_lexer": "ipython3",
   "version": "3.12.9"
  }
 },
 "nbformat": 4,
 "nbformat_minor": 5
}
