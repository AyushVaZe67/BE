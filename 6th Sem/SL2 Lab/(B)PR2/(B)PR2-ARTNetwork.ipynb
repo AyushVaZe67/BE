{
 "cells": [
  {
   "cell_type": "code",
   "execution_count": 2,
   "id": "6b33ff84-f70c-473c-871e-9accaac5fd0d",
   "metadata": {},
   "outputs": [
    {
     "name": "stdout",
     "output_type": "stream",
     "text": [
      "Updated weights for cluster 0: [1. 1. 0. 0. 1.]\n",
      "Updated weights for cluster 1: [1. 1. 1. 0. 1.]\n",
      "No suitable cluster found for pattern: [0 0 1 1 0]\n",
      "No suitable cluster found for pattern: [0 0 1 1 1]\n"
     ]
    }
   ],
   "source": [
    "import numpy as np\n",
    "\n",
    "class ART1:\n",
    "    def __init__(self, num_features, num_clusters, vigilance=0.8):\n",
    "        self.num_features = num_features\n",
    "        self.num_clusters = num_clusters\n",
    "        self.vigilance = vigilance\n",
    "        self.weights = np.ones((num_clusters, num_features))  # Initialize weights\n",
    "\n",
    "    def train(self, data):\n",
    "        for pattern in data:\n",
    "            chosen_cluster = self._find_resonance(pattern)\n",
    "            if chosen_cluster is not None:\n",
    "                self._update_weights(chosen_cluster, pattern)\n",
    "            else:\n",
    "                print(\"No suitable cluster found for pattern:\", pattern)\n",
    "    \n",
    "    def _find_resonance(self, pattern):\n",
    "        for i, weight in enumerate(self.weights):\n",
    "            match_score = np.sum(np.minimum(pattern, weight)) / np.sum(pattern)\n",
    "            if match_score >= self.vigilance:\n",
    "                return i\n",
    "        return None\n",
    "    \n",
    "    def _update_weights(self, cluster_idx, pattern):\n",
    "        self.weights[cluster_idx] = np.minimum(self.weights[cluster_idx], pattern)\n",
    "        print(f\"Updated weights for cluster {cluster_idx}: {self.weights[cluster_idx]}\")\n",
    "\n",
    "if __name__ == \"__main__\":\n",
    "    # Sample binary input patterns\n",
    "    data = np.array([\n",
    "        [1, 1, 0, 0, 1],\n",
    "        [1, 1, 1, 0, 1],\n",
    "        [0, 0, 1, 1, 0],\n",
    "        [0, 0, 1, 1, 1]\n",
    "    ])\n",
    "    \n",
    "    art1 = ART1(num_features=5, num_clusters=2, vigilance=0.8)\n",
    "    art1.train(data)"
   ]
  },
  {
   "cell_type": "code",
   "execution_count": null,
   "id": "4c371030-8fec-4dd1-a33e-a8cf6d8be497",
   "metadata": {},
   "outputs": [],
   "source": []
  }
 ],
 "metadata": {
  "kernelspec": {
   "display_name": "Python 3 (ipykernel)",
   "language": "python",
   "name": "python3"
  },
  "language_info": {
   "codemirror_mode": {
    "name": "ipython",
    "version": 3
   },
   "file_extension": ".py",
   "mimetype": "text/x-python",
   "name": "python",
   "nbconvert_exporter": "python",
   "pygments_lexer": "ipython3",
   "version": "3.12.9"
  }
 },
 "nbformat": 4,
 "nbformat_minor": 5
}
