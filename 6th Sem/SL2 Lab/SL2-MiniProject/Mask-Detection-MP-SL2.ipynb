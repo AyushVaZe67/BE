{
 "cells": [
  {
   "cell_type": "code",
   "execution_count": 18,
   "id": "cdccf65d-df1c-4528-be34-99cdff029c08",
   "metadata": {},
   "outputs": [],
   "source": [
    "import os\n",
    "import cv2\n",
    "import pandas as pd\n",
    "import numpy as np\n",
    "import matplotlib.pyplot as plt\n",
    "import seaborn as sns\n",
    "import random\n",
    "from sklearn.model_selection import train_test_split"
   ]
  },
  {
   "cell_type": "code",
   "execution_count": 2,
   "id": "5cf75f60-faab-4516-9607-b1869a8bf6da",
   "metadata": {},
   "outputs": [],
   "source": [
    "categories = ['with_mask','without_mask']"
   ]
  },
  {
   "cell_type": "code",
   "execution_count": 3,
   "id": "96b3e70f-9a5e-447f-abf3-2abf1caa1b7d",
   "metadata": {},
   "outputs": [],
   "source": [
    "data = []\n",
    "for category in categories:\n",
    "    path = os.path.join('train',category)\n",
    "\n",
    "    label = categories.index(category)\n",
    "\n",
    "    for file in os.listdir(path):\n",
    "        img_path = os.path.join(path,file)\n",
    "        img = cv2.imread(img_path)\n",
    "        img = cv2.resize(img,(244,244))\n",
    "\n",
    "        data.append([img,label])"
   ]
  },
  {
   "cell_type": "code",
   "execution_count": 5,
   "id": "51ab79a3-633b-4d23-a7a7-e119d31c33ab",
   "metadata": {},
   "outputs": [
    {
     "data": {
      "text/plain": [
       "10000"
      ]
     },
     "execution_count": 5,
     "metadata": {},
     "output_type": "execute_result"
    }
   ],
   "source": [
    "len(data)"
   ]
  },
  {
   "cell_type": "code",
   "execution_count": 6,
   "id": "7bb51ddf-3390-4ccd-ac84-11ab755d9a4f",
   "metadata": {},
   "outputs": [],
   "source": [
    "random.shuffle(data)"
   ]
  },
  {
   "cell_type": "code",
   "execution_count": 7,
   "id": "87dc6970-0e6c-4a34-940d-15770a21951d",
   "metadata": {},
   "outputs": [],
   "source": [
    "X = []\n",
    "y = []\n",
    "\n",
    "for features,label in data:\n",
    "    X.append(features)\n",
    "    y.append(label)"
   ]
  },
  {
   "cell_type": "code",
   "execution_count": 9,
   "id": "be2f3a2e-331b-4f1f-b6fa-ae85617b6321",
   "metadata": {},
   "outputs": [
    {
     "data": {
      "text/plain": [
       "10000"
      ]
     },
     "execution_count": 9,
     "metadata": {},
     "output_type": "execute_result"
    }
   ],
   "source": [
    "len(X)"
   ]
  },
  {
   "cell_type": "code",
   "execution_count": 10,
   "id": "8d749304-da86-46f1-a1f6-5ed6395569b2",
   "metadata": {},
   "outputs": [
    {
     "data": {
      "text/plain": [
       "10000"
      ]
     },
     "execution_count": 10,
     "metadata": {},
     "output_type": "execute_result"
    }
   ],
   "source": [
    "len(y)"
   ]
  },
  {
   "cell_type": "code",
   "execution_count": 12,
   "id": "b216f1e0-a06a-4360-a942-666fd6399a33",
   "metadata": {},
   "outputs": [],
   "source": [
    "X = np.array(X)\n",
    "y = np.array(y)"
   ]
  },
  {
   "cell_type": "code",
   "execution_count": 13,
   "id": "f78d39c1-c0e3-4cc8-b27b-876281871d9c",
   "metadata": {},
   "outputs": [
    {
     "data": {
      "text/plain": [
       "(10000, 244, 244, 3)"
      ]
     },
     "execution_count": 13,
     "metadata": {},
     "output_type": "execute_result"
    }
   ],
   "source": [
    "X.shape"
   ]
  },
  {
   "cell_type": "code",
   "execution_count": 14,
   "id": "19111df7-7f7d-43f7-841a-b5e46edb20f4",
   "metadata": {},
   "outputs": [
    {
     "data": {
      "text/plain": [
       "(10000,)"
      ]
     },
     "execution_count": 14,
     "metadata": {},
     "output_type": "execute_result"
    }
   ],
   "source": [
    "y.shape"
   ]
  },
  {
   "cell_type": "code",
   "execution_count": 15,
   "id": "ade1e0e9-281b-48b3-9536-8f59a7f7121d",
   "metadata": {},
   "outputs": [
    {
     "data": {
      "text/plain": [
       "array([0, 0, 0, ..., 0, 0, 1])"
      ]
     },
     "execution_count": 15,
     "metadata": {},
     "output_type": "execute_result"
    }
   ],
   "source": [
    "y"
   ]
  },
  {
   "cell_type": "code",
   "execution_count": 16,
   "id": "6fa990ba-5406-487b-800e-d72cfc45ed9a",
   "metadata": {},
   "outputs": [],
   "source": [
    "X = X/255"
   ]
  },
  {
   "cell_type": "code",
   "execution_count": 17,
   "id": "5dabf9f3-b705-427a-abf0-f32c75463198",
   "metadata": {},
   "outputs": [
    {
     "data": {
      "text/plain": [
       "array([[[1.        , 1.        , 0.98431373],\n",
       "        [0.73333333, 0.7254902 , 0.72156863],\n",
       "        [0.45882353, 0.43529412, 0.44705882],\n",
       "        ...,\n",
       "        [0.96078431, 0.9372549 , 0.9254902 ],\n",
       "        [0.96078431, 0.9372549 , 0.9254902 ],\n",
       "        [0.96078431, 0.9372549 , 0.9254902 ]],\n",
       "\n",
       "       [[1.        , 1.        , 0.98431373],\n",
       "        [0.85490196, 0.84313725, 0.84313725],\n",
       "        [0.48627451, 0.4627451 , 0.4745098 ],\n",
       "        ...,\n",
       "        [0.96078431, 0.9372549 , 0.9254902 ],\n",
       "        [0.96078431, 0.9372549 , 0.9254902 ],\n",
       "        [0.96078431, 0.9372549 , 0.9254902 ]],\n",
       "\n",
       "       [[1.        , 1.        , 0.98431373],\n",
       "        [0.97254902, 0.97254902, 0.96078431],\n",
       "        [0.58431373, 0.56862745, 0.56862745],\n",
       "        ...,\n",
       "        [0.96078431, 0.9372549 , 0.9254902 ],\n",
       "        [0.96078431, 0.9372549 , 0.9254902 ],\n",
       "        [0.96078431, 0.9372549 , 0.9254902 ]],\n",
       "\n",
       "       ...,\n",
       "\n",
       "       [[0.94901961, 0.9254902 , 0.91372549],\n",
       "        [0.94901961, 0.9254902 , 0.91372549],\n",
       "        [0.94901961, 0.9254902 , 0.91372549],\n",
       "        ...,\n",
       "        [0.45490196, 0.54117647, 0.61176471],\n",
       "        [0.45490196, 0.54117647, 0.61176471],\n",
       "        [0.45490196, 0.54117647, 0.61176471]],\n",
       "\n",
       "       [[0.94901961, 0.9254902 , 0.91372549],\n",
       "        [0.94901961, 0.9254902 , 0.91372549],\n",
       "        [0.94901961, 0.9254902 , 0.91372549],\n",
       "        ...,\n",
       "        [0.45490196, 0.54117647, 0.61176471],\n",
       "        [0.45490196, 0.54117647, 0.61176471],\n",
       "        [0.45490196, 0.54117647, 0.61176471]],\n",
       "\n",
       "       [[0.94901961, 0.9254902 , 0.91372549],\n",
       "        [0.94901961, 0.9254902 , 0.91372549],\n",
       "        [0.94901961, 0.9254902 , 0.91372549],\n",
       "        ...,\n",
       "        [0.45490196, 0.54117647, 0.61176471],\n",
       "        [0.45490196, 0.54117647, 0.61176471],\n",
       "        [0.45490196, 0.54117647, 0.61176471]]])"
      ]
     },
     "execution_count": 17,
     "metadata": {},
     "output_type": "execute_result"
    }
   ],
   "source": [
    "X[0]"
   ]
  },
  {
   "cell_type": "code",
   "execution_count": 19,
   "id": "cdc3d6c1-fb2a-46e4-a546-0698c283dfb8",
   "metadata": {},
   "outputs": [],
   "source": [
    "X_train,X_test,y_train,y_test = train_test_split(X,y,test_size=0.2)"
   ]
  },
  {
   "cell_type": "code",
   "execution_count": 20,
   "id": "a1234a0b-7d76-403a-8d18-f9393245e6cc",
   "metadata": {},
   "outputs": [
    {
     "data": {
      "text/plain": [
       "(8000, 244, 244, 3)"
      ]
     },
     "execution_count": 20,
     "metadata": {},
     "output_type": "execute_result"
    }
   ],
   "source": [
    "X_train.shape"
   ]
  },
  {
   "cell_type": "code",
   "execution_count": 21,
   "id": "1c0ecdf1-78af-4752-a67e-9ff56e3a4a7a",
   "metadata": {},
   "outputs": [
    {
     "data": {
      "text/plain": [
       "(2000, 244, 244, 3)"
      ]
     },
     "execution_count": 21,
     "metadata": {},
     "output_type": "execute_result"
    }
   ],
   "source": [
    "X_test.shape"
   ]
  },
  {
   "cell_type": "code",
   "execution_count": null,
   "id": "db3179e3-d50e-468f-8514-933b7c19657e",
   "metadata": {},
   "outputs": [],
   "source": []
  }
 ],
 "metadata": {
  "kernelspec": {
   "display_name": "Python 3 (ipykernel)",
   "language": "python",
   "name": "python3"
  },
  "language_info": {
   "codemirror_mode": {
    "name": "ipython",
    "version": 3
   },
   "file_extension": ".py",
   "mimetype": "text/x-python",
   "name": "python",
   "nbconvert_exporter": "python",
   "pygments_lexer": "ipython3",
   "version": "3.12.9"
  }
 },
 "nbformat": 4,
 "nbformat_minor": 5
}
