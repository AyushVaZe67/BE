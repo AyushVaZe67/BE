{
 "cells": [
  {
   "cell_type": "code",
   "execution_count": 8,
   "id": "f9436cad-d902-488d-9237-35eec35b80be",
   "metadata": {},
   "outputs": [
    {
     "name": "stdout",
     "output_type": "stream",
     "text": [
      "Input pattern: [-1  1 -1 -1]\n",
      "Predicted pattern: [-1.  1. -1. -1.]\n",
      "Energy: -1.0\n",
      "---\n",
      "Input pattern: [-1 -1 -1 -1]\n",
      "Predicted pattern: [-1. -1. -1. -1.]\n",
      "Energy: -1.0\n",
      "---\n",
      "Input pattern: [-1 -1  1 -1]\n",
      "Predicted pattern: [-1. -1.  1. -1.]\n",
      "Energy: -1.0\n",
      "---\n",
      "Input pattern: [-1  1 -1  1]\n",
      "Predicted pattern: [-1.  1. -1.  1.]\n",
      "Energy: -1.0\n",
      "---\n"
     ]
    }
   ],
   "source": [
    "import numpy as np\n",
    "\n",
    "class HopfieldNetwork:\n",
    "    def __init__(self, n_neurons):\n",
    "        self.n_neurons = n_neurons\n",
    "        self.weights = np.zeros((n_neurons, n_neurons))\n",
    "\n",
    "    def train(self, patterns):\n",
    "        for pattern in patterns:\n",
    "            self.weights += np.outer(pattern, pattern)\n",
    "        self.weights /= self.n_neurons\n",
    "        np.fill_diagonal(self.weights, 0)\n",
    "    \n",
    "    def predict(self, pattern, max_iterations=10):\n",
    "        for _ in range(max_iterations):\n",
    "            pattern = np.sign(np.dot(self.weights, pattern))\n",
    "        return pattern\n",
    "\n",
    "    def calculate_energy(self, pattern):\n",
    "        return -0.5 * np.dot(pattern, np.dot(self.weights, pattern))\n",
    "\n",
    "if __name__ == '__main__':\n",
    "    patterns = np.array([\n",
    "        [-1, 1, -1, -1],\n",
    "        [-1, -1,- 1,- 1],\n",
    "        [-1, -1, 1, -1],\n",
    "        [-1, 1, -1, 1]\n",
    "    ])\n",
    "    \n",
    "    n_neurons = patterns.shape[1]\n",
    "    network = HopfieldNetwork(n_neurons)\n",
    "    network.train(patterns)\n",
    "    \n",
    "    for pattern in patterns:\n",
    "        prediction = network.predict(pattern)\n",
    "        energy = network.calculate_energy(prediction)\n",
    "        print('Input pattern:', pattern)\n",
    "        print('Predicted pattern:', prediction)\n",
    "        print('Energy:', energy)\n",
    "        print('---')\n"
   ]
  },
  {
   "cell_type": "code",
   "execution_count": null,
   "id": "1ead26e1-16a4-4cd0-a109-90180d1810ff",
   "metadata": {},
   "outputs": [],
   "source": []
  }
 ],
 "metadata": {
  "kernelspec": {
   "display_name": "Python 3 (ipykernel)",
   "language": "python",
   "name": "python3"
  },
  "language_info": {
   "codemirror_mode": {
    "name": "ipython",
    "version": 3
   },
   "file_extension": ".py",
   "mimetype": "text/x-python",
   "name": "python",
   "nbconvert_exporter": "python",
   "pygments_lexer": "ipython3",
   "version": "3.12.9"
  }
 },
 "nbformat": 4,
 "nbformat_minor": 5
}
