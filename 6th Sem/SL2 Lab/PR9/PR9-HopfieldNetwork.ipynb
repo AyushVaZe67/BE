{
 "cells": [
  {
   "cell_type": "code",
   "execution_count": 2,
   "id": "934d5879-821a-4248-bd35-afdd4d8326a1",
   "metadata": {
    "scrolled": true
   },
   "outputs": [
    {
     "name": "stdout",
     "output_type": "stream",
     "text": [
      "Weight matrix after training:\n",
      "[[ 0.  0.  0. -4.]\n",
      " [ 0.  0. -4.  0.]\n",
      " [ 0. -4.  0.  0.]\n",
      " [-4.  0.  0.  0.]]\n",
      "\n",
      "Recalling pattern: [ 1 -1  1 -1]\n",
      "Pattern: [ 1 -1  1 -1], Energy: -8.0\n",
      "Pattern: [ 1 -1  1 -1], Energy: -8.0\n",
      "Pattern: [ 1 -1  1 -1], Energy: -8.0\n",
      "Pattern: [ 1 -1  1 -1], Energy: -8.0\n",
      "Pattern: [ 1 -1  1 -1], Energy: -8.0\n",
      "Final recalled pattern: [ 1 -1  1 -1]\n",
      "\n",
      "Recalling pattern: [ 1  1  1 -1]\n",
      "Pattern: [ 1 -1  1 -1], Energy: -8.0\n",
      "Pattern: [ 1 -1  1 -1], Energy: -8.0\n",
      "Pattern: [ 1 -1  1 -1], Energy: -8.0\n",
      "Pattern: [ 1 -1  1 -1], Energy: -8.0\n",
      "Pattern: [ 1 -1  1 -1], Energy: -8.0\n",
      "Final recalled pattern: [ 1 -1  1 -1]\n",
      "\n",
      "Recalling pattern: [-1  1  1  1]\n",
      "Pattern: [-1 -1  1  1], Energy: -8.0\n",
      "Pattern: [-1 -1  1  1], Energy: -8.0\n",
      "Pattern: [-1 -1  1  1], Energy: -8.0\n",
      "Pattern: [-1 -1  1  1], Energy: -8.0\n",
      "Pattern: [-1 -1  1  1], Energy: -8.0\n",
      "Final recalled pattern: [-1 -1  1  1]\n"
     ]
    }
   ],
   "source": [
    "import numpy as np\n",
    "\n",
    "class HopfieldNetwork:\n",
    "    def __init__(self, num_neurons):\n",
    "        self.num_neurons = num_neurons\n",
    "        self.weights = np.zeros((num_neurons, num_neurons))\n",
    "\n",
    "    def train(self, patterns):\n",
    "        for p in patterns:\n",
    "            p = np.reshape(p, (self.num_neurons, 1))\n",
    "            self.weights += np.dot(p, p.T)\n",
    "        np.fill_diagonal(self.weights, 0)\n",
    "\n",
    "    def recall(self, input_pattern, steps=5):\n",
    "        pattern = input_pattern.copy()\n",
    "        print(f\"\\nRecalling pattern: {pattern}\")\n",
    "        for _ in range(steps):\n",
    "            for i in range(self.num_neurons):\n",
    "                raw_input = np.dot(self.weights[i], pattern)\n",
    "                pattern[i] = 1 if raw_input >= 0 else -1\n",
    "            energy = self.energy(pattern)\n",
    "            print(f\"Pattern: {pattern}, Energy: {energy}\")\n",
    "        print(f\"Final recalled pattern: {pattern}\")\n",
    "        return pattern\n",
    "\n",
    "    def energy(self, pattern):\n",
    "        return -0.5 * np.dot(pattern.T, np.dot(self.weights, pattern))\n",
    "\n",
    "\n",
    "# Define 4 binary patterns (using bipolar representation: 1 and -1)\n",
    "patterns = np.array([\n",
    "    [1, -1, 1, -1],\n",
    "    [-1, 1, -1, 1],\n",
    "    [1, 1, -1, -1],\n",
    "    [-1, -1, 1, 1]\n",
    "])\n",
    "\n",
    "# Create Hopfield network\n",
    "hopfield_net = HopfieldNetwork(num_neurons=4)\n",
    "\n",
    "# Train the network with 4 patterns\n",
    "hopfield_net.train(patterns)\n",
    "print(\"Weight matrix after training:\")\n",
    "print(hopfield_net.weights)\n",
    "\n",
    "# Test the network with a known and a noisy version\n",
    "test_patterns = [\n",
    "    [1, -1, 1, -1],    # Known pattern\n",
    "    [1, 1, 1, -1],     # Noisy version of pattern 1\n",
    "    [-1, 1, 1, 1]      # Noisy version of pattern 2\n",
    "]\n",
    "\n",
    "# Recall stored patterns\n",
    "for test in test_patterns:\n",
    "    hopfield_net.recall(np.array(test))"
   ]
  },
  {
   "cell_type": "code",
   "execution_count": null,
   "id": "35961c46-3ef3-4f2c-aba5-00c6fe9a4bcd",
   "metadata": {},
   "outputs": [],
   "source": []
  }
 ],
 "metadata": {
  "kernelspec": {
   "display_name": "Python 3 (ipykernel)",
   "language": "python",
   "name": "python3"
  },
  "language_info": {
   "codemirror_mode": {
    "name": "ipython",
    "version": 3
   },
   "file_extension": ".py",
   "mimetype": "text/x-python",
   "name": "python",
   "nbconvert_exporter": "python",
   "pygments_lexer": "ipython3",
   "version": "3.12.9"
  }
 },
 "nbformat": 4,
 "nbformat_minor": 5
}
