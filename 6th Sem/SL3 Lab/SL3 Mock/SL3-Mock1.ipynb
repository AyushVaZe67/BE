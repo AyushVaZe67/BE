{
 "cells": [
  {
   "cell_type": "code",
   "execution_count": 7,
   "id": "fb76ea9e-fdbb-426b-acf2-1f275cb120d8",
   "metadata": {},
   "outputs": [
    {
     "name": "stdout",
     "output_type": "stream",
     "text": [
      "Predictions: ['spam' 'spam' 'not spam']\n",
      "\n",
      "Accuracy Score: 1.0\n",
      "\n",
      "Classification Report:\n",
      "               precision    recall  f1-score   support\n",
      "\n",
      "    not spam       1.00      1.00      1.00         1\n",
      "        spam       1.00      1.00      1.00         2\n",
      "\n",
      "    accuracy                           1.00         3\n",
      "   macro avg       1.00      1.00      1.00         3\n",
      "weighted avg       1.00      1.00      1.00         3\n",
      "\n",
      "\n",
      "Prediction for new email 'Free Free Free': spam\n"
     ]
    }
   ],
   "source": [
    "from sklearn.feature_extraction.text import CountVectorizer\n",
    "from sklearn.naive_bayes import MultinomialNB\n",
    "from sklearn.model_selection import train_test_split\n",
    "from sklearn.metrics import accuracy_score, classification_report\n",
    "\n",
    "# Sample dataset: emails with \"spam\" and \"not spam\" labels\n",
    "emails = [\n",
    "    \"Free money offer now\",               # Spam\n",
    "    \"Limited time offer, get it now\",     # Spam\n",
    "    \"Hi, how are you?\",                   # Not Spam\n",
    "    \"See you at the party this weekend\",  # Not Spam\n",
    "    \"Get free access to the premium course\", # Spam\n",
    "    \"Hey, just checking in on you\",       # Not Spam\n",
    "    \"Earn free cash now, click here\",      # Spam\n",
    "    \"Looking forward to seeing you soon\", # Not Spam\n",
    "    \"Don't miss this free chance\",        # Spam\n",
    "    \"Let's meet up for a coffee tomorrow\" # Not Spam\n",
    "]\n",
    "\n",
    "labels = [\"spam\", \"spam\", \"not spam\", \"not spam\", \"spam\", \"not spam\", \"spam\", \"not spam\", \"spam\", \"not spam\"]\n",
    "\n",
    "# Step 1: Convert emails to feature vectors (using CountVectorizer)\n",
    "vectorizer = CountVectorizer()\n",
    "X = vectorizer.fit_transform(emails)  # Feature matrix\n",
    "y = labels  # Labels\n",
    "\n",
    "# Step 2: Split the data into training and testing sets\n",
    "X_train, X_test, y_train, y_test = train_test_split(X, y, test_size=0.3, random_state=42)\n",
    "\n",
    "# Step 3: Initialize the Naive Bayes model with Laplace smoothing (alpha=1)\n",
    "nb_model = MultinomialNB(alpha=1.0)\n",
    "\n",
    "# Step 4: Train the model\n",
    "nb_model.fit(X_train, y_train)\n",
    "\n",
    "# Step 5: Make predictions on the test set\n",
    "y_pred = nb_model.predict(X_test)\n",
    "\n",
    "# Step 6: Evaluate the model\n",
    "print(\"Predictions:\", y_pred)\n",
    "print(\"\\nAccuracy Score:\", accuracy_score(y_test, y_pred))\n",
    "print(\"\\nClassification Report:\\n\", classification_report(y_test, y_pred))\n",
    "\n",
    "# Step 7: Predict a new email\n",
    "new_email = [\"Free Free Free\"]\n",
    "new_email_vectorized = vectorizer.transform(new_email)\n",
    "new_prediction = nb_model.predict(new_email_vectorized)\n",
    "\n",
    "print(f\"\\nPrediction for new email '{new_email[0]}':\", new_prediction[0])"
   ]
  },
  {
   "cell_type": "code",
   "execution_count": null,
   "id": "c2faaa31-d8fd-4e7e-a826-7c565888e4cd",
   "metadata": {},
   "outputs": [],
   "source": []
  }
 ],
 "metadata": {
  "kernelspec": {
   "display_name": "Python 3 (ipykernel)",
   "language": "python",
   "name": "python3"
  },
  "language_info": {
   "codemirror_mode": {
    "name": "ipython",
    "version": 3
   },
   "file_extension": ".py",
   "mimetype": "text/x-python",
   "name": "python",
   "nbconvert_exporter": "python",
   "pygments_lexer": "ipython3",
   "version": "3.12.9"
  }
 },
 "nbformat": 4,
 "nbformat_minor": 5
}
