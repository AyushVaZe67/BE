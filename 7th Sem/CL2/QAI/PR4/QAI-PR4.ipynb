{
 "cells": [
  {
   "cell_type": "code",
   "execution_count": 8,
   "id": "2ff93494-6a6e-4df6-8294-23750c18724d",
   "metadata": {},
   "outputs": [],
   "source": [
    "from qiskit import QuantumCircuit\n",
    "from qiskit_aer import Aer\n",
    "from qiskit.visualization import plot_histogram\n",
    "import matplotlib.pyplot as plt"
   ]
  },
  {
   "cell_type": "code",
   "execution_count": 9,
   "id": "c940d02e-40bf-4d89-9694-d855ca1d0a10",
   "metadata": {},
   "outputs": [],
   "source": [
    "qc = QuantumCircuit(3, 2)"
   ]
  },
  {
   "cell_type": "code",
   "execution_count": 10,
   "id": "3df9b016-6e41-48f9-b642-18b0401fac53",
   "metadata": {},
   "outputs": [
    {
     "data": {
      "text/plain": [
       "<qiskit.circuit.instructionset.InstructionSet at 0x1d67fe27040>"
      ]
     },
     "execution_count": 10,
     "metadata": {},
     "output_type": "execute_result"
    }
   ],
   "source": [
    "qc.ry(0.6, 0)   # arbitrary state\n",
    "qc.rz(0.8, 0)"
   ]
  },
  {
   "cell_type": "code",
   "execution_count": 11,
   "id": "0de4a68c-304f-460f-84e9-b67adf215166",
   "metadata": {},
   "outputs": [
    {
     "data": {
      "text/plain": [
       "<qiskit.circuit.instructionset.InstructionSet at 0x1d66368ae20>"
      ]
     },
     "execution_count": 11,
     "metadata": {},
     "output_type": "execute_result"
    }
   ],
   "source": [
    "qc.h(1)\n",
    "qc.cx(1, 2)\n",
    "\n",
    "# ---- Step 3: Bell measurement on Alice's qubits ----\n",
    "qc.cx(0, 1)\n",
    "qc.h(0)\n",
    "\n",
    "qc.measure(0, 0)\n",
    "qc.measure(1, 1)"
   ]
  },
  {
   "cell_type": "code",
   "execution_count": 12,
   "id": "e152d3f1-6eb9-4aec-9081-db8899e4ebed",
   "metadata": {},
   "outputs": [
    {
     "ename": "AttributeError",
     "evalue": "'InstructionSet' object has no attribute 'c_if'",
     "output_type": "error",
     "traceback": [
      "\u001b[1;31m---------------------------------------------------------------------------\u001b[0m",
      "\u001b[1;31mAttributeError\u001b[0m                            Traceback (most recent call last)",
      "Cell \u001b[1;32mIn[12], line 1\u001b[0m\n\u001b[1;32m----> 1\u001b[0m \u001b[43mqc\u001b[49m\u001b[38;5;241;43m.\u001b[39;49m\u001b[43mx\u001b[49m\u001b[43m(\u001b[49m\u001b[38;5;241;43m2\u001b[39;49m\u001b[43m)\u001b[49m\u001b[38;5;241;43m.\u001b[39;49m\u001b[43mc_if\u001b[49m(qc\u001b[38;5;241m.\u001b[39mcregs[\u001b[38;5;241m0\u001b[39m], \u001b[38;5;241m1\u001b[39m)   \u001b[38;5;66;03m# apply X if classical == 01\u001b[39;00m\n\u001b[0;32m      2\u001b[0m qc\u001b[38;5;241m.\u001b[39mz(\u001b[38;5;241m2\u001b[39m)\u001b[38;5;241m.\u001b[39mc_if(qc\u001b[38;5;241m.\u001b[39mcregs[\u001b[38;5;241m0\u001b[39m], \u001b[38;5;241m2\u001b[39m)   \u001b[38;5;66;03m# apply Z if classical == 10\u001b[39;00m\n\u001b[0;32m      3\u001b[0m qc\u001b[38;5;241m.\u001b[39mz(\u001b[38;5;241m2\u001b[39m)\u001b[38;5;241m.\u001b[39mc_if(qc\u001b[38;5;241m.\u001b[39mcregs[\u001b[38;5;241m0\u001b[39m], \u001b[38;5;241m3\u001b[39m)\n",
      "\u001b[1;31mAttributeError\u001b[0m: 'InstructionSet' object has no attribute 'c_if'"
     ]
    }
   ],
   "source": [
    "qc.x(2).c_if(qc.cregs[0], 1)   # apply X if classical == 01\n",
    "qc.z(2).c_if(qc.cregs[0], 2)   # apply Z if classical == 10\n",
    "qc.z(2).c_if(qc.cregs[0], 3)   # apply Z if classical == 11"
   ]
  },
  {
   "cell_type": "code",
   "execution_count": null,
   "id": "6536a0fc-db3a-4124-b9e6-7d5855fb2f40",
   "metadata": {},
   "outputs": [],
   "source": []
  }
 ],
 "metadata": {
  "kernelspec": {
   "display_name": "Python 3 (ipykernel)",
   "language": "python",
   "name": "python3"
  },
  "language_info": {
   "codemirror_mode": {
    "name": "ipython",
    "version": 3
   },
   "file_extension": ".py",
   "mimetype": "text/x-python",
   "name": "python",
   "nbconvert_exporter": "python",
   "pygments_lexer": "ipython3",
   "version": "3.9.18"
  }
 },
 "nbformat": 4,
 "nbformat_minor": 5
}
