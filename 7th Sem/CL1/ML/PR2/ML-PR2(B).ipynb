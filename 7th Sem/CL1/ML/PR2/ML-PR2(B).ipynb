{
 "cells": [
  {
   "cell_type": "code",
   "execution_count": 7,
   "id": "4e079687-db68-4128-957f-cdd78957fb8d",
   "metadata": {},
   "outputs": [],
   "source": [
    "import os\n",
    "import numpy as np\n",
    "import pandas as pd\n",
    "from scipy.stats import skew, kurtosis\n",
    "from sklearn.datasets import load_diabetes\n",
    "from sklearn.linear_model import LinearRegression, LogisticRegression\n",
    "from sklearn.model_selection import train_test_split\n",
    "from sklearn.preprocessing import StandardScaler\n",
    "from sklearn.metrics import r2_score, mean_squared_error, accuracy_score, roc_auc_score, confusion_matrix, classification_report\n",
    "import statsmodels.api as sm"
   ]
  },
  {
   "cell_type": "code",
   "execution_count": 8,
   "id": "4d7882fa-7e7c-48dd-8aea-993c6fc75673",
   "metadata": {},
   "outputs": [],
   "source": [
    "# Load UCI Diabetes dataset\n",
    "uci = load_diabetes()\n",
    "df_uci = pd.DataFrame(uci.data, columns=uci.feature_names)\n",
    "df_uci[\"target\"] = uci.target\n",
    "\n",
    "# Load Pima Indians Diabetes dataset (make sure 'diabetes.csv' is in the same folder)\n",
    "pima_path = \"diabetes.csv\"\n",
    "if not os.path.exists(pima_path):\n",
    "    raise FileNotFoundError(\"Please place 'diabetes.csv' in the same folder as this script.\")\n",
    "df_pima = pd.read_csv(pima_path)\n",
    "\n",
    "# Ensure Outcome column is present\n",
    "if \"Outcome\" not in df_pima.columns:\n",
    "    df_pima.rename(columns={df_pima.columns[-1]: \"Outcome\"}, inplace=True)"
   ]
  },
  {
   "cell_type": "code",
   "execution_count": 9,
   "id": "586374ae-c9c8-4d22-b360-a72666558c45",
   "metadata": {},
   "outputs": [
    {
     "name": "stdout",
     "output_type": "stream",
     "text": [
      "\n",
      "===== Univariate Analysis: UCI Diabetes =====\n",
      "\n",
      "===== Univariate Analysis: Pima Indians Diabetes =====\n"
     ]
    }
   ],
   "source": [
    "def univariate_analysis(df, name):\n",
    "    print(f\"\\n===== Univariate Analysis: {name} =====\")\n",
    "    results = []\n",
    "    for col in df.select_dtypes(include=[np.number]).columns:\n",
    "        data = df[col].dropna()\n",
    "        results.append({\n",
    "            \"Feature\": col,\n",
    "            \"Count\": len(data),\n",
    "            \"Mean\": data.mean(),\n",
    "            \"Median\": data.median(),\n",
    "            \"Mode\": data.mode().iloc[0] if not data.mode().empty else np.nan,\n",
    "            \"Variance\": data.var(),\n",
    "            \"Std Dev\": data.std(),\n",
    "            \"Skewness\": skew(data),\n",
    "            \"Kurtosis\": kurtosis(data)\n",
    "        })\n",
    "    return pd.DataFrame(results)\n",
    "\n",
    "uni_uci = univariate_analysis(df_uci, \"UCI Diabetes\")\n",
    "uni_pima = univariate_analysis(df_pima, \"Pima Indians Diabetes\")"
   ]
  },
  {
   "cell_type": "code",
   "execution_count": 10,
   "id": "2bd6afe8-1973-40e4-b22b-5d336df7089e",
   "metadata": {},
   "outputs": [
    {
     "name": "stdout",
     "output_type": "stream",
     "text": [
      "\n",
      "===== Bivariate Analysis: UCI Diabetes (Linear Regression) =====\n",
      "R²: 0.233\n",
      "RMSE: 63.732\n",
      "\n",
      "===== Bivariate Analysis: Pima (Logistic Regression) =====\n",
      "Accuracy: 0.708\n",
      "AUC: 0.767\n"
     ]
    }
   ],
   "source": [
    "print(\"\\n===== Bivariate Analysis: UCI Diabetes (Linear Regression) =====\")\n",
    "X = df_uci[[\"bmi\"]]  # using 'bmi' as strongest predictor\n",
    "y = df_uci[\"target\"]\n",
    "X_train, X_test, y_train, y_test = train_test_split(X, y, test_size=0.2, random_state=42)\n",
    "lin_reg = LinearRegression().fit(X_train, y_train)\n",
    "y_pred = lin_reg.predict(X_test)\n",
    "print(f\"R²: {r2_score(y_test, y_pred):.3f}\")\n",
    "print(f\"RMSE: {np.sqrt(mean_squared_error(y_test, y_pred)):.3f}\")\n",
    "\n",
    "print(\"\\n===== Bivariate Analysis: Pima (Logistic Regression) =====\")\n",
    "X_pima = df_pima[[\"Glucose\"]]  # using Glucose as single predictor\n",
    "y_pima = df_pima[\"Outcome\"]\n",
    "Xp_train, Xp_test, yp_train, yp_test = train_test_split(X_pima, y_pima, test_size=0.2, random_state=42, stratify=y_pima)\n",
    "log_reg = LogisticRegression(max_iter=1000).fit(Xp_train, yp_train)\n",
    "yp_pred = log_reg.predict(Xp_test)\n",
    "yp_prob = log_reg.predict_proba(Xp_test)[:, 1]\n",
    "print(f\"Accuracy: {accuracy_score(yp_test, yp_pred):.3f}\")\n",
    "print(f\"AUC: {roc_auc_score(yp_test, yp_prob):.3f}\")"
   ]
  },
  {
   "cell_type": "code",
   "execution_count": 11,
   "id": "68e85207-629f-43ae-ac70-8acb0efd3afd",
   "metadata": {},
   "outputs": [
    {
     "name": "stdout",
     "output_type": "stream",
     "text": [
      "\n",
      "===== Multiple Regression: UCI Diabetes =====\n",
      "                            OLS Regression Results                            \n",
      "==============================================================================\n",
      "Dep. Variable:                 target   R-squared:                       0.518\n",
      "Model:                            OLS   Adj. R-squared:                  0.507\n",
      "Method:                 Least Squares   F-statistic:                     46.27\n",
      "Date:                Thu, 11 Sep 2025   Prob (F-statistic):           3.83e-62\n",
      "Time:                        14:14:01   Log-Likelihood:                -2386.0\n",
      "No. Observations:                 442   AIC:                             4794.\n",
      "Df Residuals:                     431   BIC:                             4839.\n",
      "Df Model:                          10                                         \n",
      "Covariance Type:            nonrobust                                         \n",
      "==============================================================================\n",
      "                 coef    std err          t      P>|t|      [0.025      0.975]\n",
      "------------------------------------------------------------------------------\n",
      "const        152.1335      2.576     59.061      0.000     147.071     157.196\n",
      "age          -10.0099     59.749     -0.168      0.867    -127.446     107.426\n",
      "sex         -239.8156     61.222     -3.917      0.000    -360.147    -119.484\n",
      "bmi          519.8459     66.533      7.813      0.000     389.076     650.616\n",
      "bp           324.3846     65.422      4.958      0.000     195.799     452.970\n",
      "s1          -792.1756    416.680     -1.901      0.058   -1611.153      26.802\n",
      "s2           476.7390    339.030      1.406      0.160    -189.620    1143.098\n",
      "s3           101.0433    212.531      0.475      0.635    -316.684     518.770\n",
      "s4           177.0632    161.476      1.097      0.273    -140.315     494.441\n",
      "s5           751.2737    171.900      4.370      0.000     413.407    1089.140\n",
      "s6            67.6267     65.984      1.025      0.306     -62.064     197.318\n",
      "==============================================================================\n",
      "Omnibus:                        1.506   Durbin-Watson:                   2.029\n",
      "Prob(Omnibus):                  0.471   Jarque-Bera (JB):                1.404\n",
      "Skew:                           0.017   Prob(JB):                        0.496\n",
      "Kurtosis:                       2.726   Cond. No.                         227.\n",
      "==============================================================================\n",
      "\n",
      "Notes:\n",
      "[1] Standard Errors assume that the covariance matrix of the errors is correctly specified.\n",
      "\n",
      "===== Multiple Logistic Regression: Pima =====\n",
      "Accuracy: 0.714\n",
      "AUC: 0.823\n",
      "[[82 18]\n",
      " [26 28]]\n",
      "              precision    recall  f1-score   support\n",
      "\n",
      "           0       0.76      0.82      0.79       100\n",
      "           1       0.61      0.52      0.56        54\n",
      "\n",
      "    accuracy                           0.71       154\n",
      "   macro avg       0.68      0.67      0.67       154\n",
      "weighted avg       0.71      0.71      0.71       154\n",
      "\n"
     ]
    }
   ],
   "source": [
    "print(\"\\n===== Multiple Regression: UCI Diabetes =====\")\n",
    "X_all = sm.add_constant(df_uci.drop(columns=[\"target\"]))\n",
    "model = sm.OLS(df_uci[\"target\"], X_all).fit()\n",
    "print(model.summary())\n",
    "\n",
    "print(\"\\n===== Multiple Logistic Regression: Pima =====\")\n",
    "X_pima_all = df_pima.drop(columns=[\"Outcome\"])\n",
    "scaler = StandardScaler()\n",
    "X_scaled = scaler.fit_transform(X_pima_all)\n",
    "Xp_train, Xp_test, yp_train, yp_test = train_test_split(X_scaled, y_pima, test_size=0.2, random_state=42, stratify=y_pima)\n",
    "log_reg_full = LogisticRegression(max_iter=2000).fit(Xp_train, yp_train)\n",
    "yp_pred_full = log_reg_full.predict(Xp_test)\n",
    "yp_prob_full = log_reg_full.predict_proba(Xp_test)[:, 1]\n",
    "print(f\"Accuracy: {accuracy_score(yp_test, yp_pred_full):.3f}\")\n",
    "print(f\"AUC: {roc_auc_score(yp_test, yp_prob_full):.3f}\")\n",
    "print(confusion_matrix(yp_test, yp_pred_full))\n",
    "print(classification_report(yp_test, yp_pred_full))"
   ]
  },
  {
   "cell_type": "code",
   "execution_count": 12,
   "id": "96960906-7c81-432f-be3e-af0dd795e2a7",
   "metadata": {},
   "outputs": [
    {
     "name": "stdout",
     "output_type": "stream",
     "text": [
      "\n",
      "===== COMPARISON =====\n",
      "UCI R² (Multiple Regression): 0.518\n",
      "Pima Accuracy (Multiple Logistic): 0.714, AUC: 0.823\n"
     ]
    }
   ],
   "source": [
    "print(\"\\n===== COMPARISON =====\")\n",
    "print(f\"UCI R² (Multiple Regression): {model.rsquared:.3f}\")\n",
    "print(f\"Pima Accuracy (Multiple Logistic): {accuracy_score(yp_test, yp_pred_full):.3f}, AUC: {roc_auc_score(yp_test, yp_prob_full):.3f}\")"
   ]
  },
  {
   "cell_type": "code",
   "execution_count": null,
   "id": "2d5e94f8-d08b-4ecf-92b4-c79e0e688a25",
   "metadata": {},
   "outputs": [],
   "source": []
  }
 ],
 "metadata": {
  "kernelspec": {
   "display_name": "Python 3 (ipykernel)",
   "language": "python",
   "name": "python3"
  },
  "language_info": {
   "codemirror_mode": {
    "name": "ipython",
    "version": 3
   },
   "file_extension": ".py",
   "mimetype": "text/x-python",
   "name": "python",
   "nbconvert_exporter": "python",
   "pygments_lexer": "ipython3",
   "version": "3.9.18"
  }
 },
 "nbformat": 4,
 "nbformat_minor": 5
}
