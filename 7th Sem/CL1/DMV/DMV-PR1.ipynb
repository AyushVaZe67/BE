{
 "cells": [
  {
   "cell_type": "code",
   "execution_count": null,
   "id": "104b9905-29ba-41b6-9e73-8059c70fe69f",
   "metadata": {},
   "outputs": [],
   "source": []
  }
 ],
 "metadata": {
  "kernelspec": {
   "display_name": "",
   "name": ""
  },
  "language_info": {
   "name": ""
  }
 },
 "nbformat": 4,
 "nbformat_minor": 5
}
